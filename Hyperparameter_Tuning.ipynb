{
 "cells": [
  {
   "cell_type": "code",
   "execution_count": 1,
   "metadata": {},
   "outputs": [],
   "source": [
    "import numpy as np\n",
    "import pandas as pd\n",
    "from sklearn.ensemble import RandomForestRegressor\n",
    "from sklearn.model_selection import GridSearchCV, PredefinedSplit\n",
    "import lightgbm as lgb\n",
    "from funs import rmse, clip20, clip40\n",
    "import pickle\n",
    "import pyarrow.parquet as pq"
   ]
  },
  {
   "cell_type": "markdown",
   "metadata": {},
   "source": [
    "## Data"
   ]
  },
  {
   "cell_type": "code",
   "execution_count": 14,
   "metadata": {},
   "outputs": [],
   "source": [
    "X_train = pq.read_table('data/X_train.parquet').to_pandas()\n",
    "X_val = pq.read_table('data/X_val.parquet').to_pandas()\n",
    "y_train = np.load('data/y_train.npy')\n",
    "y_val = np.load('data/y_val.npy')"
   ]
  },
  {
   "cell_type": "code",
   "execution_count": 3,
   "metadata": {
    "scrolled": true
   },
   "outputs": [
    {
     "data": {
      "text/html": [
       "<div>\n",
       "<style scoped>\n",
       "    .dataframe tbody tr th:only-of-type {\n",
       "        vertical-align: middle;\n",
       "    }\n",
       "\n",
       "    .dataframe tbody tr th {\n",
       "        vertical-align: top;\n",
       "    }\n",
       "\n",
       "    .dataframe thead th {\n",
       "        text-align: right;\n",
       "    }\n",
       "</style>\n",
       "<table border=\"1\" class=\"dataframe\">\n",
       "  <thead>\n",
       "    <tr style=\"text-align: right;\">\n",
       "      <th></th>\n",
       "      <th>shop_id</th>\n",
       "      <th>item_id</th>\n",
       "      <th>target_item_lag_1</th>\n",
       "      <th>target_lag_1</th>\n",
       "      <th>target_shop_lag_1</th>\n",
       "      <th>target_item_lag_2</th>\n",
       "      <th>target_lag_2</th>\n",
       "      <th>target_shop_lag_2</th>\n",
       "      <th>target_item_lag_3</th>\n",
       "      <th>target_lag_3</th>\n",
       "      <th>target_shop_lag_3</th>\n",
       "      <th>item_category_id</th>\n",
       "    </tr>\n",
       "  </thead>\n",
       "  <tbody>\n",
       "    <tr>\n",
       "      <th>0</th>\n",
       "      <td>54</td>\n",
       "      <td>10297</td>\n",
       "      <td>42.0</td>\n",
       "      <td>3.0</td>\n",
       "      <td>4282.0</td>\n",
       "      <td>2.0</td>\n",
       "      <td>0.0</td>\n",
       "      <td>3085.0</td>\n",
       "      <td>0.0</td>\n",
       "      <td>0.0</td>\n",
       "      <td>0.0</td>\n",
       "      <td>37</td>\n",
       "    </tr>\n",
       "    <tr>\n",
       "      <th>1</th>\n",
       "      <td>54</td>\n",
       "      <td>10298</td>\n",
       "      <td>369.0</td>\n",
       "      <td>21.0</td>\n",
       "      <td>4282.0</td>\n",
       "      <td>1309.0</td>\n",
       "      <td>119.0</td>\n",
       "      <td>3085.0</td>\n",
       "      <td>144.0</td>\n",
       "      <td>7.0</td>\n",
       "      <td>2464.0</td>\n",
       "      <td>40</td>\n",
       "    </tr>\n",
       "    <tr>\n",
       "      <th>2</th>\n",
       "      <td>54</td>\n",
       "      <td>10300</td>\n",
       "      <td>54.0</td>\n",
       "      <td>1.0</td>\n",
       "      <td>4282.0</td>\n",
       "      <td>361.0</td>\n",
       "      <td>31.0</td>\n",
       "      <td>3085.0</td>\n",
       "      <td>53.0</td>\n",
       "      <td>0.0</td>\n",
       "      <td>2464.0</td>\n",
       "      <td>37</td>\n",
       "    </tr>\n",
       "    <tr>\n",
       "      <th>3</th>\n",
       "      <td>54</td>\n",
       "      <td>10292</td>\n",
       "      <td>156.0</td>\n",
       "      <td>8.0</td>\n",
       "      <td>4282.0</td>\n",
       "      <td>203.0</td>\n",
       "      <td>16.0</td>\n",
       "      <td>3085.0</td>\n",
       "      <td>279.0</td>\n",
       "      <td>15.0</td>\n",
       "      <td>2464.0</td>\n",
       "      <td>40</td>\n",
       "    </tr>\n",
       "    <tr>\n",
       "      <th>4</th>\n",
       "      <td>54</td>\n",
       "      <td>10143</td>\n",
       "      <td>18.0</td>\n",
       "      <td>1.0</td>\n",
       "      <td>4282.0</td>\n",
       "      <td>2.0</td>\n",
       "      <td>0.0</td>\n",
       "      <td>3085.0</td>\n",
       "      <td>0.0</td>\n",
       "      <td>0.0</td>\n",
       "      <td>0.0</td>\n",
       "      <td>55</td>\n",
       "    </tr>\n",
       "  </tbody>\n",
       "</table>\n",
       "</div>"
      ],
      "text/plain": [
       "   shop_id  item_id  target_item_lag_1  target_lag_1  target_shop_lag_1  \\\n",
       "0       54    10297               42.0           3.0             4282.0   \n",
       "1       54    10298              369.0          21.0             4282.0   \n",
       "2       54    10300               54.0           1.0             4282.0   \n",
       "3       54    10292              156.0           8.0             4282.0   \n",
       "4       54    10143               18.0           1.0             4282.0   \n",
       "\n",
       "   target_item_lag_2  target_lag_2  target_shop_lag_2  target_item_lag_3  \\\n",
       "0                2.0           0.0             3085.0                0.0   \n",
       "1             1309.0         119.0             3085.0              144.0   \n",
       "2              361.0          31.0             3085.0               53.0   \n",
       "3              203.0          16.0             3085.0              279.0   \n",
       "4                2.0           0.0             3085.0                0.0   \n",
       "\n",
       "   target_lag_3  target_shop_lag_3  item_category_id  \n",
       "0           0.0                0.0                37  \n",
       "1           7.0             2464.0                40  \n",
       "2           0.0             2464.0                37  \n",
       "3          15.0             2464.0                40  \n",
       "4           0.0                0.0                55  "
      ]
     },
     "execution_count": 3,
     "metadata": {},
     "output_type": "execute_result"
    }
   ],
   "source": [
    "X_train.head()"
   ]
  },
  {
   "cell_type": "code",
   "execution_count": 4,
   "metadata": {},
   "outputs": [
    {
     "data": {
      "text/html": [
       "<div>\n",
       "<style scoped>\n",
       "    .dataframe tbody tr th:only-of-type {\n",
       "        vertical-align: middle;\n",
       "    }\n",
       "\n",
       "    .dataframe tbody tr th {\n",
       "        vertical-align: top;\n",
       "    }\n",
       "\n",
       "    .dataframe thead th {\n",
       "        text-align: right;\n",
       "    }\n",
       "</style>\n",
       "<table border=\"1\" class=\"dataframe\">\n",
       "  <thead>\n",
       "    <tr style=\"text-align: right;\">\n",
       "      <th></th>\n",
       "      <th>shop_id</th>\n",
       "      <th>item_id</th>\n",
       "      <th>target_item_lag_1</th>\n",
       "      <th>target_lag_1</th>\n",
       "      <th>target_shop_lag_1</th>\n",
       "      <th>target_item_lag_2</th>\n",
       "      <th>target_lag_2</th>\n",
       "      <th>target_shop_lag_2</th>\n",
       "      <th>target_item_lag_3</th>\n",
       "      <th>target_lag_3</th>\n",
       "      <th>target_shop_lag_3</th>\n",
       "      <th>item_category_id</th>\n",
       "    </tr>\n",
       "  </thead>\n",
       "  <tbody>\n",
       "    <tr>\n",
       "      <th>0</th>\n",
       "      <td>54</td>\n",
       "      <td>10297</td>\n",
       "      <td>42.0</td>\n",
       "      <td>3.0</td>\n",
       "      <td>4282.0</td>\n",
       "      <td>2.0</td>\n",
       "      <td>0.0</td>\n",
       "      <td>3085.0</td>\n",
       "      <td>0.0</td>\n",
       "      <td>0.0</td>\n",
       "      <td>0.0</td>\n",
       "      <td>37</td>\n",
       "    </tr>\n",
       "    <tr>\n",
       "      <th>1</th>\n",
       "      <td>54</td>\n",
       "      <td>10298</td>\n",
       "      <td>369.0</td>\n",
       "      <td>21.0</td>\n",
       "      <td>4282.0</td>\n",
       "      <td>1309.0</td>\n",
       "      <td>119.0</td>\n",
       "      <td>3085.0</td>\n",
       "      <td>144.0</td>\n",
       "      <td>7.0</td>\n",
       "      <td>2464.0</td>\n",
       "      <td>40</td>\n",
       "    </tr>\n",
       "    <tr>\n",
       "      <th>2</th>\n",
       "      <td>54</td>\n",
       "      <td>10300</td>\n",
       "      <td>54.0</td>\n",
       "      <td>1.0</td>\n",
       "      <td>4282.0</td>\n",
       "      <td>361.0</td>\n",
       "      <td>31.0</td>\n",
       "      <td>3085.0</td>\n",
       "      <td>53.0</td>\n",
       "      <td>0.0</td>\n",
       "      <td>2464.0</td>\n",
       "      <td>37</td>\n",
       "    </tr>\n",
       "    <tr>\n",
       "      <th>3</th>\n",
       "      <td>54</td>\n",
       "      <td>10292</td>\n",
       "      <td>156.0</td>\n",
       "      <td>8.0</td>\n",
       "      <td>4282.0</td>\n",
       "      <td>203.0</td>\n",
       "      <td>16.0</td>\n",
       "      <td>3085.0</td>\n",
       "      <td>279.0</td>\n",
       "      <td>15.0</td>\n",
       "      <td>2464.0</td>\n",
       "      <td>40</td>\n",
       "    </tr>\n",
       "    <tr>\n",
       "      <th>4</th>\n",
       "      <td>54</td>\n",
       "      <td>10143</td>\n",
       "      <td>18.0</td>\n",
       "      <td>1.0</td>\n",
       "      <td>4282.0</td>\n",
       "      <td>2.0</td>\n",
       "      <td>0.0</td>\n",
       "      <td>3085.0</td>\n",
       "      <td>0.0</td>\n",
       "      <td>0.0</td>\n",
       "      <td>0.0</td>\n",
       "      <td>55</td>\n",
       "    </tr>\n",
       "  </tbody>\n",
       "</table>\n",
       "</div>"
      ],
      "text/plain": [
       "   shop_id  item_id  target_item_lag_1  target_lag_1  target_shop_lag_1  \\\n",
       "0       54    10297               42.0           3.0             4282.0   \n",
       "1       54    10298              369.0          21.0             4282.0   \n",
       "2       54    10300               54.0           1.0             4282.0   \n",
       "3       54    10292              156.0           8.0             4282.0   \n",
       "4       54    10143               18.0           1.0             4282.0   \n",
       "\n",
       "   target_item_lag_2  target_lag_2  target_shop_lag_2  target_item_lag_3  \\\n",
       "0                2.0           0.0             3085.0                0.0   \n",
       "1             1309.0         119.0             3085.0              144.0   \n",
       "2              361.0          31.0             3085.0               53.0   \n",
       "3              203.0          16.0             3085.0              279.0   \n",
       "4                2.0           0.0             3085.0                0.0   \n",
       "\n",
       "   target_lag_3  target_shop_lag_3  item_category_id  \n",
       "0           0.0                0.0                37  \n",
       "1           7.0             2464.0                40  \n",
       "2           0.0             2464.0                37  \n",
       "3          15.0             2464.0                40  \n",
       "4           0.0                0.0                55  "
      ]
     },
     "execution_count": 4,
     "metadata": {},
     "output_type": "execute_result"
    }
   ],
   "source": [
    "X_train.head()"
   ]
  },
  {
   "cell_type": "code",
   "execution_count": 5,
   "metadata": {},
   "outputs": [
    {
     "data": {
      "text/html": [
       "<div>\n",
       "<style scoped>\n",
       "    .dataframe tbody tr th:only-of-type {\n",
       "        vertical-align: middle;\n",
       "    }\n",
       "\n",
       "    .dataframe tbody tr th {\n",
       "        vertical-align: top;\n",
       "    }\n",
       "\n",
       "    .dataframe thead th {\n",
       "        text-align: right;\n",
       "    }\n",
       "</style>\n",
       "<table border=\"1\" class=\"dataframe\">\n",
       "  <thead>\n",
       "    <tr style=\"text-align: right;\">\n",
       "      <th></th>\n",
       "      <th>shop_id</th>\n",
       "      <th>item_id</th>\n",
       "      <th>target_item_lag_1</th>\n",
       "      <th>target_lag_1</th>\n",
       "      <th>target_shop_lag_1</th>\n",
       "      <th>target_item_lag_2</th>\n",
       "      <th>target_lag_2</th>\n",
       "      <th>target_shop_lag_2</th>\n",
       "      <th>target_item_lag_3</th>\n",
       "      <th>target_lag_3</th>\n",
       "      <th>target_shop_lag_3</th>\n",
       "      <th>item_category_id</th>\n",
       "    </tr>\n",
       "  </thead>\n",
       "  <tbody>\n",
       "    <tr>\n",
       "      <th>1080263</th>\n",
       "      <td>37</td>\n",
       "      <td>3460</td>\n",
       "      <td>0.0</td>\n",
       "      <td>0.0</td>\n",
       "      <td>0.0</td>\n",
       "      <td>0.0</td>\n",
       "      <td>0.0</td>\n",
       "      <td>0.0</td>\n",
       "      <td>0.0</td>\n",
       "      <td>0.0</td>\n",
       "      <td>0.0</td>\n",
       "      <td>28</td>\n",
       "    </tr>\n",
       "    <tr>\n",
       "      <th>1080264</th>\n",
       "      <td>37</td>\n",
       "      <td>4615</td>\n",
       "      <td>19.0</td>\n",
       "      <td>0.0</td>\n",
       "      <td>791.0</td>\n",
       "      <td>15.0</td>\n",
       "      <td>1.0</td>\n",
       "      <td>810.0</td>\n",
       "      <td>16.0</td>\n",
       "      <td>0.0</td>\n",
       "      <td>865.0</td>\n",
       "      <td>55</td>\n",
       "    </tr>\n",
       "    <tr>\n",
       "      <th>1080265</th>\n",
       "      <td>37</td>\n",
       "      <td>4870</td>\n",
       "      <td>189.0</td>\n",
       "      <td>1.0</td>\n",
       "      <td>791.0</td>\n",
       "      <td>182.0</td>\n",
       "      <td>0.0</td>\n",
       "      <td>810.0</td>\n",
       "      <td>214.0</td>\n",
       "      <td>1.0</td>\n",
       "      <td>865.0</td>\n",
       "      <td>23</td>\n",
       "    </tr>\n",
       "    <tr>\n",
       "      <th>1080266</th>\n",
       "      <td>37</td>\n",
       "      <td>4872</td>\n",
       "      <td>309.0</td>\n",
       "      <td>2.0</td>\n",
       "      <td>791.0</td>\n",
       "      <td>266.0</td>\n",
       "      <td>4.0</td>\n",
       "      <td>810.0</td>\n",
       "      <td>384.0</td>\n",
       "      <td>3.0</td>\n",
       "      <td>865.0</td>\n",
       "      <td>19</td>\n",
       "    </tr>\n",
       "    <tr>\n",
       "      <th>1080267</th>\n",
       "      <td>37</td>\n",
       "      <td>4873</td>\n",
       "      <td>224.0</td>\n",
       "      <td>2.0</td>\n",
       "      <td>791.0</td>\n",
       "      <td>0.0</td>\n",
       "      <td>0.0</td>\n",
       "      <td>0.0</td>\n",
       "      <td>0.0</td>\n",
       "      <td>0.0</td>\n",
       "      <td>0.0</td>\n",
       "      <td>20</td>\n",
       "    </tr>\n",
       "  </tbody>\n",
       "</table>\n",
       "</div>"
      ],
      "text/plain": [
       "         shop_id  item_id  target_item_lag_1  target_lag_1  target_shop_lag_1  \\\n",
       "1080263       37     3460                0.0           0.0                0.0   \n",
       "1080264       37     4615               19.0           0.0              791.0   \n",
       "1080265       37     4870              189.0           1.0              791.0   \n",
       "1080266       37     4872              309.0           2.0              791.0   \n",
       "1080267       37     4873              224.0           2.0              791.0   \n",
       "\n",
       "         target_item_lag_2  target_lag_2  target_shop_lag_2  \\\n",
       "1080263                0.0           0.0                0.0   \n",
       "1080264               15.0           1.0              810.0   \n",
       "1080265              182.0           0.0              810.0   \n",
       "1080266              266.0           4.0              810.0   \n",
       "1080267                0.0           0.0                0.0   \n",
       "\n",
       "         target_item_lag_3  target_lag_3  target_shop_lag_3  item_category_id  \n",
       "1080263                0.0           0.0                0.0                28  \n",
       "1080264               16.0           0.0              865.0                55  \n",
       "1080265              214.0           1.0              865.0                23  \n",
       "1080266              384.0           3.0              865.0                19  \n",
       "1080267                0.0           0.0                0.0                20  "
      ]
     },
     "execution_count": 5,
     "metadata": {},
     "output_type": "execute_result"
    }
   ],
   "source": [
    "X_val.head()"
   ]
  },
  {
   "cell_type": "markdown",
   "metadata": {},
   "source": [
    "## Models"
   ]
  },
  {
   "cell_type": "markdown",
   "metadata": {},
   "source": [
    "Grid Search for Hyperparameter tuning"
   ]
  },
  {
   "cell_type": "markdown",
   "metadata": {},
   "source": [
    "### Light Gradient Boosting"
   ]
  },
  {
   "cell_type": "code",
   "execution_count": 17,
   "metadata": {},
   "outputs": [],
   "source": [
    "learning_rates = [0.01, 0.02, 0.03, 0.04, 0.05, 0.06, 0.07, 0.08, 0.09, 0.1]\n",
    "best_rmse = 9999999999999\n",
    "for lr in learning_rates:\n",
    "    lgb_params = {\n",
    "               'feature_fraction': 0.75,\n",
    "               'metric': 'rmse',\n",
    "               'nthread':1, \n",
    "               'min_data_in_leaf': 2**7, \n",
    "               'bagging_fraction': 0.75, \n",
    "               'learning_rate': lr, \n",
    "               'objective': 'mse', \n",
    "               'bagging_seed': 2**7, \n",
    "               'num_leaves': 2**7,\n",
    "               'bagging_freq':1,\n",
    "               'verbose':0 \n",
    "              }\n",
    "\n",
    "    lgb_model = lgb.train(lgb_params, lgb.Dataset(X_train, label=clip40(y_train)), int(100 * (lr / 0.03)))\n",
    "    pred_lgb_val = lgb_model.predict(X_val)\n",
    "    score = rmse(clip20(y_val), clip20(pred_lgb_val))\n",
    "\n",
    "    if score < best_rmse:\n",
    "        best_rmse = score\n",
    "        best_lr = lr\n",
    "        best_lgb = lgb_model"
   ]
  },
  {
   "cell_type": "code",
   "execution_count": 19,
   "metadata": {},
   "outputs": [
    {
     "data": {
      "text/plain": [
       "0.05"
      ]
     },
     "execution_count": 19,
     "metadata": {},
     "output_type": "execute_result"
    }
   ],
   "source": [
    "best_lr"
   ]
  },
  {
   "cell_type": "markdown",
   "metadata": {},
   "source": [
    "We train the best model with all the data."
   ]
  },
  {
   "cell_type": "code",
   "execution_count": 20,
   "metadata": {},
   "outputs": [],
   "source": [
    "X = X_train.append(X_val)\n",
    "y = np.append(y_train, y_val)"
   ]
  },
  {
   "cell_type": "code",
   "execution_count": 21,
   "metadata": {},
   "outputs": [],
   "source": [
    "best_lgb_params = {\n",
    "               'feature_fraction': 0.75,\n",
    "               'metric': 'rmse',\n",
    "               'nthread':1, \n",
    "               'min_data_in_leaf': 2**7, \n",
    "               'bagging_fraction': 0.75, \n",
    "               'learning_rate': best_lr, \n",
    "               'objective': 'mse', \n",
    "               'bagging_seed': 2**7, \n",
    "               'num_leaves': 2**7,\n",
    "               'bagging_freq':1,\n",
    "               'verbose':0 \n",
    "              }\n",
    "best_lgb = lgb.train(lgb_params, lgb.Dataset(X, label=clip40(y)), int(100 * (lr / 0.03)))"
   ]
  },
  {
   "cell_type": "markdown",
   "metadata": {},
   "source": [
    "Save the model"
   ]
  },
  {
   "cell_type": "code",
   "execution_count": 22,
   "metadata": {},
   "outputs": [],
   "source": [
    "filename = 'models/best_lgb.sav'\n",
    "pickle.dump(best_lgb, open(filename, 'wb'))"
   ]
  },
  {
   "cell_type": "markdown",
   "metadata": {},
   "source": [
    "### Random Forest"
   ]
  },
  {
   "cell_type": "markdown",
   "metadata": {},
   "source": [
    "CV Iterator"
   ]
  },
  {
   "cell_type": "code",
   "execution_count": 12,
   "metadata": {},
   "outputs": [],
   "source": [
    "X = X_train.append(X_val)\n",
    "Y = np.concatenate([y_train, y_val])\n",
    "train_ind=np.zeros(X.shape[0])\n",
    "for i in range(0, len(X_train)):\n",
    "    train_ind[i] = -1\n",
    "ps = PredefinedSplit(test_fold=(train_ind))"
   ]
  },
  {
   "cell_type": "markdown",
   "metadata": {},
   "source": [
    "Grid Search for Hyperparameter tuning"
   ]
  },
  {
   "cell_type": "code",
   "execution_count": 14,
   "metadata": {},
   "outputs": [],
   "source": [
    "param_grid={'bootstrap':[0.7, 0.8], 'max_features':[4, 6, 8], \n",
    "            'max_depth' : [None, 4, 6, 8, 10, 12]}\n",
    "gs = GridSearchCV(cv = ps, \n",
    "                  estimator = RandomForestRegressor(n_estimators=300, n_jobs=4), \n",
    "                  param_grid=param_grid, scoring='neg_mean_squared_error')"
   ]
  },
  {
   "cell_type": "code",
   "execution_count": null,
   "metadata": {},
   "outputs": [],
   "source": [
    "gs.fit(X, clip40(Y))\n",
    "best_rf = gs.best_estimator_"
   ]
  },
  {
   "cell_type": "code",
   "execution_count": 12,
   "metadata": {},
   "outputs": [
    {
     "data": {
      "text/plain": [
       "RandomForestRegressor(bootstrap=0.7, criterion='mse', max_depth=12,\n",
       "           max_features=6, max_leaf_nodes=None, min_impurity_decrease=0.0,\n",
       "           min_impurity_split=None, min_samples_leaf=1,\n",
       "           min_samples_split=2, min_weight_fraction_leaf=0.0,\n",
       "           n_estimators=300, n_jobs=4, oob_score=False, random_state=None,\n",
       "           verbose=0, warm_start=False)"
      ]
     },
     "execution_count": 12,
     "metadata": {},
     "output_type": "execute_result"
    }
   ],
   "source": [
    "best_rf = gs.best_estimator_\n",
    "best_rf"
   ]
  },
  {
   "cell_type": "code",
   "execution_count": 23,
   "metadata": {},
   "outputs": [],
   "source": [
    "best_rf = RandomForestRegressor(bootstrap=0.7, criterion='mse', max_depth=12,\n",
    "           max_features=6, max_leaf_nodes=None, min_impurity_decrease=0.0,\n",
    "           min_impurity_split=None, min_samples_leaf=1,\n",
    "           min_samples_split=2, min_weight_fraction_leaf=0.0,\n",
    "           n_estimators=300, n_jobs=4, oob_score=False, random_state=None,\n",
    "           verbose=0, warm_start=False)"
   ]
  },
  {
   "cell_type": "markdown",
   "metadata": {},
   "source": [
    "We train the best model with all the data."
   ]
  },
  {
   "cell_type": "code",
   "execution_count": 8,
   "metadata": {},
   "outputs": [],
   "source": [
    "best_rf = pickle.load(open('models/best_rf.sav', 'rb'))"
   ]
  },
  {
   "cell_type": "code",
   "execution_count": 24,
   "metadata": {
    "scrolled": true
   },
   "outputs": [
    {
     "name": "stdout",
     "output_type": "stream",
     "text": [
      "1190.7306106090546\n"
     ]
    }
   ],
   "source": [
    "from time import time\n",
    "t = time()\n",
    "best_rf.fit(X, clip40(y))\n",
    "print(time() - t)"
   ]
  },
  {
   "cell_type": "code",
   "execution_count": 25,
   "metadata": {},
   "outputs": [
    {
     "data": {
      "text/html": [
       "<div>\n",
       "<style scoped>\n",
       "    .dataframe tbody tr th:only-of-type {\n",
       "        vertical-align: middle;\n",
       "    }\n",
       "\n",
       "    .dataframe tbody tr th {\n",
       "        vertical-align: top;\n",
       "    }\n",
       "\n",
       "    .dataframe thead th {\n",
       "        text-align: right;\n",
       "    }\n",
       "</style>\n",
       "<table border=\"1\" class=\"dataframe\">\n",
       "  <thead>\n",
       "    <tr style=\"text-align: right;\">\n",
       "      <th></th>\n",
       "      <th>shop_id</th>\n",
       "      <th>item_id</th>\n",
       "      <th>target_item_lag_1</th>\n",
       "      <th>target_lag_1</th>\n",
       "      <th>target_shop_lag_1</th>\n",
       "      <th>target_item_lag_2</th>\n",
       "      <th>target_lag_2</th>\n",
       "      <th>target_shop_lag_2</th>\n",
       "      <th>target_item_lag_3</th>\n",
       "      <th>target_lag_3</th>\n",
       "      <th>target_shop_lag_3</th>\n",
       "      <th>item_category_id</th>\n",
       "      <th>mean_enc_cat_id</th>\n",
       "      <th>var_enc_cat_id</th>\n",
       "    </tr>\n",
       "  </thead>\n",
       "  <tbody>\n",
       "    <tr>\n",
       "      <th>0</th>\n",
       "      <td>54</td>\n",
       "      <td>10297</td>\n",
       "      <td>42.0</td>\n",
       "      <td>3.0</td>\n",
       "      <td>4282.0</td>\n",
       "      <td>2.0</td>\n",
       "      <td>0.0</td>\n",
       "      <td>3085.0</td>\n",
       "      <td>0.0</td>\n",
       "      <td>0.0</td>\n",
       "      <td>0.0</td>\n",
       "      <td>37</td>\n",
       "      <td>0.512281</td>\n",
       "      <td>2.742767</td>\n",
       "    </tr>\n",
       "    <tr>\n",
       "      <th>1</th>\n",
       "      <td>54</td>\n",
       "      <td>10298</td>\n",
       "      <td>369.0</td>\n",
       "      <td>21.0</td>\n",
       "      <td>4282.0</td>\n",
       "      <td>1309.0</td>\n",
       "      <td>119.0</td>\n",
       "      <td>3085.0</td>\n",
       "      <td>144.0</td>\n",
       "      <td>7.0</td>\n",
       "      <td>2464.0</td>\n",
       "      <td>40</td>\n",
       "      <td>1.120868</td>\n",
       "      <td>10.631319</td>\n",
       "    </tr>\n",
       "    <tr>\n",
       "      <th>2</th>\n",
       "      <td>54</td>\n",
       "      <td>10300</td>\n",
       "      <td>54.0</td>\n",
       "      <td>1.0</td>\n",
       "      <td>4282.0</td>\n",
       "      <td>361.0</td>\n",
       "      <td>31.0</td>\n",
       "      <td>3085.0</td>\n",
       "      <td>53.0</td>\n",
       "      <td>0.0</td>\n",
       "      <td>2464.0</td>\n",
       "      <td>37</td>\n",
       "      <td>0.512281</td>\n",
       "      <td>2.742767</td>\n",
       "    </tr>\n",
       "    <tr>\n",
       "      <th>3</th>\n",
       "      <td>54</td>\n",
       "      <td>10292</td>\n",
       "      <td>156.0</td>\n",
       "      <td>8.0</td>\n",
       "      <td>4282.0</td>\n",
       "      <td>203.0</td>\n",
       "      <td>16.0</td>\n",
       "      <td>3085.0</td>\n",
       "      <td>279.0</td>\n",
       "      <td>15.0</td>\n",
       "      <td>2464.0</td>\n",
       "      <td>40</td>\n",
       "      <td>1.120868</td>\n",
       "      <td>10.631319</td>\n",
       "    </tr>\n",
       "    <tr>\n",
       "      <th>4</th>\n",
       "      <td>54</td>\n",
       "      <td>10143</td>\n",
       "      <td>18.0</td>\n",
       "      <td>1.0</td>\n",
       "      <td>4282.0</td>\n",
       "      <td>2.0</td>\n",
       "      <td>0.0</td>\n",
       "      <td>3085.0</td>\n",
       "      <td>0.0</td>\n",
       "      <td>0.0</td>\n",
       "      <td>0.0</td>\n",
       "      <td>55</td>\n",
       "      <td>0.902726</td>\n",
       "      <td>2.715576</td>\n",
       "    </tr>\n",
       "  </tbody>\n",
       "</table>\n",
       "</div>"
      ],
      "text/plain": [
       "   shop_id  item_id  target_item_lag_1  target_lag_1  target_shop_lag_1  \\\n",
       "0       54    10297               42.0           3.0             4282.0   \n",
       "1       54    10298              369.0          21.0             4282.0   \n",
       "2       54    10300               54.0           1.0             4282.0   \n",
       "3       54    10292              156.0           8.0             4282.0   \n",
       "4       54    10143               18.0           1.0             4282.0   \n",
       "\n",
       "   target_item_lag_2  target_lag_2  target_shop_lag_2  target_item_lag_3  \\\n",
       "0                2.0           0.0             3085.0                0.0   \n",
       "1             1309.0         119.0             3085.0              144.0   \n",
       "2              361.0          31.0             3085.0               53.0   \n",
       "3              203.0          16.0             3085.0              279.0   \n",
       "4                2.0           0.0             3085.0                0.0   \n",
       "\n",
       "   target_lag_3  target_shop_lag_3  item_category_id  mean_enc_cat_id  \\\n",
       "0           0.0                0.0                37         0.512281   \n",
       "1           7.0             2464.0                40         1.120868   \n",
       "2           0.0             2464.0                37         0.512281   \n",
       "3          15.0             2464.0                40         1.120868   \n",
       "4           0.0                0.0                55         0.902726   \n",
       "\n",
       "   var_enc_cat_id  \n",
       "0        2.742767  \n",
       "1       10.631319  \n",
       "2        2.742767  \n",
       "3       10.631319  \n",
       "4        2.715576  "
      ]
     },
     "execution_count": 25,
     "metadata": {},
     "output_type": "execute_result"
    }
   ],
   "source": [
    "X.head()"
   ]
  },
  {
   "cell_type": "markdown",
   "metadata": {},
   "source": [
    "Save the model"
   ]
  },
  {
   "cell_type": "code",
   "execution_count": 26,
   "metadata": {},
   "outputs": [],
   "source": [
    "filename = 'models/best_rf.sav'\n",
    "pickle.dump(best_rf, open(filename, 'wb'))"
   ]
  },
  {
   "cell_type": "code",
   "execution_count": null,
   "metadata": {},
   "outputs": [],
   "source": []
  }
 ],
 "metadata": {
  "kernelspec": {
   "display_name": "Python 3",
   "language": "python",
   "name": "python3"
  },
  "language_info": {
   "codemirror_mode": {
    "name": "ipython",
    "version": 3
   },
   "file_extension": ".py",
   "mimetype": "text/x-python",
   "name": "python",
   "nbconvert_exporter": "python",
   "pygments_lexer": "ipython3",
   "version": "3.6.6"
  }
 },
 "nbformat": 4,
 "nbformat_minor": 2
}
